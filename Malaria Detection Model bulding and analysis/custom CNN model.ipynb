{
 "cells": [
  {
   "cell_type": "code",
   "execution_count": 16,
   "id": "f6658508",
   "metadata": {},
   "outputs": [],
   "source": [
    "import numpy as np\n",
    "from glob import glob\n",
    "import matplotlib.pyplot as plt\n",
    "import tensorflow as tf\n",
    "from tensorflow.keras.layers import Input, Lambda, Dense, Flatten, Conv2D, Dropout, MaxPool2D\n",
    "from tensorflow.keras.models import Model\n",
    "from tensorflow.keras.applications.vgg19 import VGG19\n",
    "from tensorflow.keras.preprocessing import image\n",
    "from tensorflow.keras.preprocessing.image import ImageDataGenerator,load_img\n",
    "from tensorflow.keras.models import Sequential\n",
    "from tensorflow.keras.callbacks import EarlyStopping\n",
    "import pandas as pd\n",
    "import os\n",
    "import math"
   ]
  },
  {
   "cell_type": "code",
   "execution_count": 7,
   "id": "520fd67f",
   "metadata": {},
   "outputs": [
    {
     "data": {
      "text/plain": [
       "[PhysicalDevice(name='/physical_device:GPU:0', device_type='GPU')]"
      ]
     },
     "execution_count": 7,
     "metadata": {},
     "output_type": "execute_result"
    }
   ],
   "source": [
    "#listing all GPU devices\n",
    "tf.config.list_physical_devices('GPU')"
   ]
  },
  {
   "cell_type": "code",
   "execution_count": 8,
   "id": "3ed99efc",
   "metadata": {},
   "outputs": [],
   "source": [
    "# Avoid OOM errors by setting GPU Memory Consumption Growth\n",
    "gpus = tf.config.experimental.list_physical_devices('GPU')\n",
    "for gpu in gpus: \n",
    "    tf.config.experimental.set_memory_growth(gpu, True)"
   ]
  },
  {
   "cell_type": "code",
   "execution_count": 9,
   "id": "c19696fe",
   "metadata": {},
   "outputs": [],
   "source": [
    "#defining paths\n",
    "training_path = 'Splitted_dataset/train'\n",
    "validation_path = 'Splitted_dataset/val'\n",
    "test_path = 'Splitted_dataset/test'\n",
    "\n",
    "#Hyper-parameters defining\n",
    "IMAGE_LENGTH = 224\n",
    "IMAGE_BREADTH = 224\n",
    "IMAGE_SIZE = [IMAGE_LENGTH, IMAGE_BREADTH]\n",
    "BATCH_SIZE = 32\n",
    "\n",
    "classes_train = glob('Splitted_dataset/train/*')"
   ]
  },
  {
   "cell_type": "code",
   "execution_count": 50,
   "id": "23d17e9f",
   "metadata": {},
   "outputs": [],
   "source": [
    "#building the model\n",
    "model = Sequential()\n",
    "model.add(Conv2D(16,(3,3),activation='relu',input_shape=(IMAGE_LENGTH,IMAGE_BREADTH,3)))\n",
    "model.add(MaxPool2D(2,2))\n",
    "model.add(Dropout(0.2))\n",
    "\n",
    "model.add(Conv2D(32,(3,3),activation='relu'))\n",
    "model.add(MaxPool2D(2,2))\n",
    "model.add(Dropout(0.3))\n",
    "\n",
    "model.add(Conv2D(64,(3,3),activation='relu'))\n",
    "model.add(Conv2D(64,(3,3),activation='relu'))\n",
    "model.add(MaxPool2D(2,2))\n",
    "model.add(Dropout(0.3))\n",
    "\n",
    "model.add(Flatten())\n",
    "model.add(Dense(64,activation='relu'))\n",
    "model.add(Dense(32,activation='sigmoid'))\n",
    "#model.add(Dropout(0.8))\n",
    "\n",
    "model.add(Dense(len(classes_train), activation='softmax'))"
   ]
  },
  {
   "cell_type": "code",
   "execution_count": 51,
   "id": "6ae59a16",
   "metadata": {},
   "outputs": [
    {
     "name": "stdout",
     "output_type": "stream",
     "text": [
      "Model: \"sequential_8\"\n",
      "_________________________________________________________________\n",
      "Layer (type)                 Output Shape              Param #   \n",
      "=================================================================\n",
      "conv2d_28 (Conv2D)           (None, 222, 222, 16)      448       \n",
      "_________________________________________________________________\n",
      "max_pooling2d_21 (MaxPooling (None, 111, 111, 16)      0         \n",
      "_________________________________________________________________\n",
      "dropout_24 (Dropout)         (None, 111, 111, 16)      0         \n",
      "_________________________________________________________________\n",
      "conv2d_29 (Conv2D)           (None, 109, 109, 32)      4640      \n",
      "_________________________________________________________________\n",
      "max_pooling2d_22 (MaxPooling (None, 54, 54, 32)        0         \n",
      "_________________________________________________________________\n",
      "dropout_25 (Dropout)         (None, 54, 54, 32)        0         \n",
      "_________________________________________________________________\n",
      "conv2d_30 (Conv2D)           (None, 52, 52, 64)        18496     \n",
      "_________________________________________________________________\n",
      "conv2d_31 (Conv2D)           (None, 50, 50, 64)        36928     \n",
      "_________________________________________________________________\n",
      "max_pooling2d_23 (MaxPooling (None, 25, 25, 64)        0         \n",
      "_________________________________________________________________\n",
      "dropout_26 (Dropout)         (None, 25, 25, 64)        0         \n",
      "_________________________________________________________________\n",
      "flatten_7 (Flatten)          (None, 40000)             0         \n",
      "_________________________________________________________________\n",
      "dense_21 (Dense)             (None, 64)                2560064   \n",
      "_________________________________________________________________\n",
      "dense_22 (Dense)             (None, 32)                2080      \n",
      "_________________________________________________________________\n",
      "dense_23 (Dense)             (None, 2)                 66        \n",
      "=================================================================\n",
      "Total params: 2,622,722\n",
      "Trainable params: 2,622,722\n",
      "Non-trainable params: 0\n",
      "_________________________________________________________________\n"
     ]
    }
   ],
   "source": [
    "#summary\n",
    "model.summary()"
   ]
  },
  {
   "cell_type": "code",
   "execution_count": 52,
   "id": "578a9733",
   "metadata": {},
   "outputs": [],
   "source": [
    "model.compile(\n",
    "  loss='categorical_crossentropy',\n",
    "  optimizer='adam',\n",
    "  metrics=['accuracy']\n",
    ")"
   ]
  },
  {
   "cell_type": "code",
   "execution_count": 53,
   "id": "68917c89",
   "metadata": {},
   "outputs": [],
   "source": [
    "train_datagen = ImageDataGenerator(rescale = 1./255,\n",
    "                                   shear_range = 0.2,\n",
    "                                   zoom_range = 0.2,\n",
    "                                   horizontal_flip = True)\n",
    "\n",
    "validation_datagen = ImageDataGenerator(rescale = 1./255)"
   ]
  },
  {
   "cell_type": "code",
   "execution_count": 54,
   "id": "1fb94504",
   "metadata": {},
   "outputs": [
    {
     "name": "stdout",
     "output_type": "stream",
     "text": [
      "Found 19290 images belonging to 2 classes.\n"
     ]
    }
   ],
   "source": [
    "#loading training dataset\n",
    "training_set = train_datagen.flow_from_directory(training_path,\n",
    "                                                 target_size = (IMAGE_LENGTH, IMAGE_BREADTH),\n",
    "                                                 batch_size = BATCH_SIZE,\n",
    "                                                 class_mode = 'categorical')"
   ]
  },
  {
   "cell_type": "code",
   "execution_count": 55,
   "id": "a41a544a",
   "metadata": {},
   "outputs": [
    {
     "name": "stdout",
     "output_type": "stream",
     "text": [
      "Found 5512 images belonging to 2 classes.\n"
     ]
    }
   ],
   "source": [
    "#Loading test validation dataset\n",
    "validation_set = validation_datagen.flow_from_directory(validation_path,\n",
    "                                            target_size = (IMAGE_LENGTH, IMAGE_BREADTH),\n",
    "                                            batch_size = BATCH_SIZE,\n",
    "                                            class_mode = 'categorical')"
   ]
  },
  {
   "cell_type": "code",
   "execution_count": 56,
   "id": "4e4fc62a",
   "metadata": {},
   "outputs": [
    {
     "name": "stdout",
     "output_type": "stream",
     "text": [
      "Epoch 1/20\n",
      "603/603 [==============================] - 225s 371ms/step - loss: 0.3781 - accuracy: 0.8300 - val_loss: 0.2112 - val_accuracy: 0.9354\n",
      "Epoch 2/20\n",
      "603/603 [==============================] - 225s 373ms/step - loss: 0.1870 - accuracy: 0.9381 - val_loss: 0.1527 - val_accuracy: 0.9543\n",
      "Epoch 3/20\n",
      "603/603 [==============================] - 225s 373ms/step - loss: 0.1609 - accuracy: 0.9495 - val_loss: 0.1500 - val_accuracy: 0.9539\n",
      "Epoch 4/20\n",
      "603/603 [==============================] - 225s 372ms/step - loss: 0.1520 - accuracy: 0.9533 - val_loss: 0.1458 - val_accuracy: 0.9546\n",
      "Epoch 5/20\n",
      "603/603 [==============================] - 226s 375ms/step - loss: 0.1491 - accuracy: 0.9537 - val_loss: 0.1441 - val_accuracy: 0.9536\n",
      "Epoch 6/20\n",
      "603/603 [==============================] - 225s 372ms/step - loss: 0.1445 - accuracy: 0.9542 - val_loss: 0.1506 - val_accuracy: 0.9494\n",
      "Epoch 7/20\n",
      "603/603 [==============================] - 225s 373ms/step - loss: 0.1402 - accuracy: 0.9551 - val_loss: 0.1309 - val_accuracy: 0.9615\n",
      "Epoch 8/20\n",
      "603/603 [==============================] - 225s 372ms/step - loss: 0.1433 - accuracy: 0.9529 - val_loss: 0.1280 - val_accuracy: 0.9595\n",
      "Epoch 9/20\n",
      "603/603 [==============================] - 225s 372ms/step - loss: 0.1364 - accuracy: 0.9551 - val_loss: 0.1702 - val_accuracy: 0.9510\n",
      "Epoch 10/20\n",
      "603/603 [==============================] - 227s 376ms/step - loss: 0.1330 - accuracy: 0.9579 - val_loss: 0.1483 - val_accuracy: 0.9536\n"
     ]
    }
   ],
   "source": [
    "#Training the model\n",
    "r = model.fit_generator(\n",
    "  training_set,\n",
    "  validation_data=validation_set,\n",
    "  epochs=20,\n",
    "  steps_per_epoch=len(training_set),\n",
    "  validation_steps=len(validation_set),\n",
    "  callbacks=[EarlyStopping(monitor='val_loss',patience=2)]\n",
    ")"
   ]
  },
  {
   "cell_type": "code",
   "execution_count": 57,
   "id": "e310fb88",
   "metadata": {},
   "outputs": [],
   "source": [
    "#savig the model\n",
    "\n",
    "model.save(os.path.join('saved_models','custom_CNN.h5'))"
   ]
  },
  {
   "cell_type": "code",
   "execution_count": 58,
   "id": "f34ed651",
   "metadata": {},
   "outputs": [
    {
     "data": {
      "image/png": "[encoded data removed]",
      "text/plain": [
       "<Figure size 640x480 with 1 Axes>"
      ]
     },
     "metadata": {},
     "output_type": "display_data"
    },
    {
     "data": {
      "image/png": "[encoded data removed]",
      "text/plain": [
       "<Figure size 640x480 with 1 Axes>"
      ]
     },
     "metadata": {},
     "output_type": "display_data"
    }
   ],
   "source": [
    "#Model performance plot\n",
    "\n",
    "#plotting the losses\n",
    "plt.plot(r.history['loss'], label='training loss')\n",
    "plt.plot(r.history['val_loss'], label='validation loss')\n",
    "plt.legend()\n",
    "plt.savefig('model_performances_plots/Custom_CNN_loss')\n",
    "plt.show()\n",
    "\n",
    "# plot the accuracy\n",
    "plt.plot(r.history['accuracy'], label='training accuracy')\n",
    "plt.plot(r.history['val_accuracy'], label='validation accuracy')\n",
    "plt.legend()\n",
    "plt.savefig('model_performances_plots/Custom_CNN_Accuracy')\n",
    "plt.show()"
   ]
  },
  {
   "cell_type": "markdown",
   "id": "24e2ebbf",
   "metadata": {},
   "source": [
    "<h2>Model Evaluation with Test Dataset<h2>"
   ]
  },
  {
   "cell_type": "code",
   "execution_count": 59,
   "id": "1fb21d04",
   "metadata": {},
   "outputs": [
    {
     "name": "stdout",
     "output_type": "stream",
     "text": [
      "Found 2756 images belonging to 2 classes.\n"
     ]
    }
   ],
   "source": [
    "#loading test dataset\n",
    "test_dataset = ImageDataGenerator(rescale = 1./255).flow_from_directory(test_path,\n",
    "                                                 target_size = (IMAGE_LENGTH, IMAGE_BREADTH),\n",
    "                                                 batch_size = BATCH_SIZE,\n",
    "                                                 class_mode = 'categorical')"
   ]
  },
  {
   "cell_type": "code",
   "execution_count": 61,
   "id": "015128de",
   "metadata": {},
   "outputs": [],
   "source": [
    "#loading the model\n",
    "from tensorflow.keras.models import load_model\n",
    "loaded_model = load_model(os.path.join('saved_models','custom_CNN.h5'))"
   ]
  },
  {
   "cell_type": "code",
   "execution_count": 62,
   "id": "6f8ba808",
   "metadata": {},
   "outputs": [],
   "source": [
    "#Importing and initializing metrics\n",
    "from tensorflow.keras.metrics import Precision, Recall, BinaryAccuracy, TruePositives, TrueNegatives, FalsePositives, FalseNegatives"
   ]
  },
  {
   "cell_type": "code",
   "execution_count": 63,
   "id": "e6d80475",
   "metadata": {},
   "outputs": [],
   "source": [
    "accuracy = BinaryAccuracy()\n",
    "precision = Precision()\n",
    "recall = Recall()\n",
    "tp = TruePositives()\n",
    "tn = TrueNegatives()\n",
    "fp = FalsePositives()\n",
    "fn = FalseNegatives()"
   ]
  },
  {
   "cell_type": "code",
   "execution_count": 64,
   "id": "e72bdd03",
   "metadata": {},
   "outputs": [
    {
     "name": "stdout",
     "output_type": "stream",
     "text": [
      "starting batch 1\n",
      "completed bacth 1\n",
      "starting batch 2\n",
      "completed bacth 2\n",
      "starting batch 3\n",
      "completed bacth 3\n",
      "starting batch 4\n",
      "completed bacth 4\n",
      "starting batch 5\n",
      "completed bacth 5\n",
      "starting batch 6\n",
      "completed bacth 6\n",
      "starting batch 7\n",
      "completed bacth 7\n",
      "starting batch 8\n",
      "completed bacth 8\n",
      "starting batch 9\n",
      "completed bacth 9\n",
      "starting batch 10\n",
      "completed bacth 10\n",
      "starting batch 11\n",
      "completed bacth 11\n",
      "starting batch 12\n",
      "completed bacth 12\n",
      "starting batch 13\n",
      "completed bacth 13\n",
      "starting batch 14\n",
      "completed bacth 14\n",
      "starting batch 15\n",
      "completed bacth 15\n",
      "starting batch 16\n",
      "completed bacth 16\n",
      "starting batch 17\n",
      "completed bacth 17\n",
      "starting batch 18\n",
      "completed bacth 18\n",
      "starting batch 19\n",
      "completed bacth 19\n",
      "starting batch 20\n",
      "completed bacth 20\n",
      "starting batch 21\n",
      "completed bacth 21\n",
      "starting batch 22\n",
      "completed bacth 22\n",
      "starting batch 23\n",
      "completed bacth 23\n",
      "starting batch 24\n",
      "completed bacth 24\n",
      "starting batch 25\n",
      "completed bacth 25\n",
      "starting batch 26\n",
      "completed bacth 26\n",
      "starting batch 27\n",
      "completed bacth 27\n",
      "starting batch 28\n",
      "completed bacth 28\n",
      "starting batch 29\n",
      "completed bacth 29\n",
      "starting batch 30\n",
      "completed bacth 30\n",
      "starting batch 31\n",
      "completed bacth 31\n",
      "starting batch 32\n",
      "completed bacth 32\n",
      "starting batch 33\n",
      "completed bacth 33\n",
      "starting batch 34\n",
      "completed bacth 34\n",
      "starting batch 35\n",
      "completed bacth 35\n",
      "starting batch 36\n",
      "completed bacth 36\n",
      "starting batch 37\n",
      "completed bacth 37\n",
      "starting batch 38\n",
      "completed bacth 38\n",
      "starting batch 39\n",
      "completed bacth 39\n",
      "starting batch 40\n",
      "completed bacth 40\n",
      "starting batch 41\n",
      "completed bacth 41\n",
      "starting batch 42\n",
      "completed bacth 42\n",
      "starting batch 43\n",
      "completed bacth 43\n",
      "starting batch 44\n",
      "completed bacth 44\n",
      "starting batch 45\n",
      "completed bacth 45\n",
      "starting batch 46\n",
      "completed bacth 46\n",
      "starting batch 47\n",
      "completed bacth 47\n",
      "starting batch 48\n",
      "completed bacth 48\n",
      "starting batch 49\n",
      "completed bacth 49\n",
      "starting batch 50\n",
      "completed bacth 50\n",
      "starting batch 51\n",
      "completed bacth 51\n",
      "starting batch 52\n",
      "completed bacth 52\n",
      "starting batch 53\n",
      "completed bacth 53\n",
      "starting batch 54\n",
      "completed bacth 54\n",
      "starting batch 55\n",
      "completed bacth 55\n",
      "starting batch 56\n",
      "completed bacth 56\n",
      "starting batch 57\n",
      "completed bacth 57\n",
      "starting batch 58\n",
      "completed bacth 58\n",
      "starting batch 59\n",
      "completed bacth 59\n",
      "starting batch 60\n",
      "completed bacth 60\n",
      "starting batch 61\n",
      "completed bacth 61\n",
      "starting batch 62\n",
      "completed bacth 62\n",
      "starting batch 63\n",
      "completed bacth 63\n",
      "starting batch 64\n",
      "completed bacth 64\n",
      "starting batch 65\n",
      "completed bacth 65\n",
      "starting batch 66\n",
      "completed bacth 66\n",
      "starting batch 67\n",
      "completed bacth 67\n",
      "starting batch 68\n",
      "completed bacth 68\n",
      "starting batch 69\n",
      "completed bacth 69\n",
      "starting batch 70\n",
      "completed bacth 70\n",
      "starting batch 71\n",
      "completed bacth 71\n",
      "starting batch 72\n",
      "completed bacth 72\n",
      "starting batch 73\n",
      "completed bacth 73\n",
      "starting batch 74\n",
      "completed bacth 74\n",
      "starting batch 75\n",
      "completed bacth 75\n",
      "starting batch 76\n",
      "completed bacth 76\n",
      "starting batch 77\n",
      "completed bacth 77\n",
      "starting batch 78\n",
      "completed bacth 78\n",
      "starting batch 79\n",
      "completed bacth 79\n",
      "starting batch 80\n",
      "completed bacth 80\n",
      "starting batch 81\n",
      "completed bacth 81\n",
      "starting batch 82\n",
      "completed bacth 82\n",
      "starting batch 83\n",
      "completed bacth 83\n",
      "starting batch 84\n",
      "completed bacth 84\n",
      "starting batch 85\n",
      "completed bacth 85\n",
      "starting batch 86\n",
      "completed bacth 86\n",
      "starting batch 87\n",
      "completed bacth 87\n"
     ]
    }
   ],
   "source": [
    "#Iterating over test dataset and updating metrics, structure[infected,uninfected]\n",
    "i = 1\n",
    "for batch in test_dataset:\n",
    "    print(\"starting batch\",i)\n",
    "    images, y = batch\n",
    "    #plt.imshow(images[0])\n",
    "    yhat = loaded_model.predict(images)\n",
    "    y=y[: , :1]\n",
    "    yhat=yhat[: , :1]\n",
    "    #print(y)\n",
    "    #print(yhat)\n",
    "    accuracy.update_state(y, yhat)\n",
    "    precision.update_state(y, yhat)\n",
    "    tp.update_state(y, yhat)\n",
    "    tn.update_state(y, yhat)\n",
    "    fp.update_state(y, yhat)\n",
    "    fn.update_state(y, yhat)\n",
    "    recall.update_state(y, yhat)\n",
    "    print('completed bacth',i)\n",
    "    i = i+1\n",
    "    if i>math.ceil(2756/BATCH_SIZE):\n",
    "        break"
   ]
  },
  {
   "cell_type": "code",
   "execution_count": 65,
   "id": "15ea869f",
   "metadata": {},
   "outputs": [
    {
     "name": "stdout",
     "output_type": "stream",
     "text": [
      "accuracy = 0.96081275 , precision = 0.97888386 , recall = 0.94194484\n",
      "true positives = 1298.0 , true negatives = 1350.0 , false positives = 28.0 false negatives = 80.0\n"
     ]
    }
   ],
   "source": [
    "print(\"accuracy =\",accuracy.result().numpy(),\", precision =\", precision.result().numpy(),\", recall =\", recall.result().numpy())\n",
    "print(\"true positives =\",tp.result().numpy(),\", true negatives =\",tn.result().numpy(),\", false positives =\",fp.result().numpy(),\"false negatives =\",fn.result().numpy())"
   ]
  },
  {
   "cell_type": "code",
   "execution_count": 67,
   "id": "1f0b85e8",
   "metadata": {},
   "outputs": [
    {
     "data": {
      "image/png": "[encoded data removed]",
      "text/plain": [
       "<Figure size 800x600 with 2 Axes>"
      ]
     },
     "metadata": {},
     "output_type": "display_data"
    }
   ],
   "source": [
    "#plotting confusion matrix\n",
    "#citation: https://www.kaggle.com/code/grfiv4/plot-a-confusion-matrix\n",
    "import itertools\n",
    "\n",
    "cm =  np.array([[ tp.result().numpy(),  fn.result().numpy()],\n",
    "                [  fp.result().numpy(),  tn.result().numpy()]])\n",
    "normalize = False\n",
    "cmap = None\n",
    "\n",
    "accuracy = np.trace(cm) / float(np.sum(cm))\n",
    "misclass = 1 - accuracy\n",
    "\n",
    "if cmap is None:\n",
    "    cmap = plt.get_cmap('Blues')\n",
    "\n",
    "plt.figure(figsize=(8, 6))\n",
    "plt.imshow(cm, interpolation='nearest', cmap=cmap)\n",
    "plt.title('Confusion Matrix')\n",
    "plt.colorbar()\n",
    "\n",
    "tick_marks = np.arange(2)\n",
    "plt.yticks(tick_marks, [\"Actual Infected\",\"Actual Uninfected\"])\n",
    "plt.xticks(tick_marks, [\"Predicted Infected\",\"Predicted Uninfected\"], rotation=45)\n",
    "\n",
    "thresh = cm.max() / 1.5 if normalize else cm.max() / 2\n",
    "for i, j in itertools.product(range(cm.shape[0]), range(cm.shape[1])):\n",
    "    if normalize:\n",
    "        plt.text(j, i, \"{:0.4f}\".format(cm[i, j]),\n",
    "                 horizontalalignment=\"center\",\n",
    "                 color=\"white\" if cm[i, j] > thresh else \"black\")\n",
    "    else:\n",
    "        plt.text(j, i, \"{:,}\".format(cm[i, j]),\n",
    "                 horizontalalignment=\"center\",\n",
    "                 color=\"white\" if cm[i, j] > thresh else \"black\")\n",
    "\n",
    "plt.tight_layout()\n",
    "plt.ylabel('True label')\n",
    "plt.xlabel('Predicted label\\naccuracy={:0.4f}; misclass={:0.4f}'.format(accuracy, misclass))\n",
    "plt.savefig('confusion_matrices/custom_CNN_CM')\n",
    "plt.show()"
   ]
  },
  {
   "cell_type": "code",
   "execution_count": null,
   "id": "904c89fc",
   "metadata": {},
   "outputs": [],
   "source": []
  }
 ],
 "metadata": {
  "kernelspec": {
   "display_name": "Python 3 (ipykernel)",
   "language": "python",
   "name": "python3"
  },
  "language_info": {
   "codemirror_mode": {
    "name": "ipython",
    "version": 3
   },
   "file_extension": ".py",
   "mimetype": "text/x-python",
   "name": "python",
   "nbconvert_exporter": "python",
   "pygments_lexer": "ipython3",
   "version": "3.9.15"
  }
 },
 "nbformat": 4,
 "nbformat_minor": 5
}
